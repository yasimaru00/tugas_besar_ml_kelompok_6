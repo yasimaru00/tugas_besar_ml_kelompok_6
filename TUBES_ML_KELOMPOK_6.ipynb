{
  "nbformat": 4,
  "nbformat_minor": 0,
  "metadata": {
    "colab": {
      "provenance": []
    },
    "kernelspec": {
      "name": "python3",
      "display_name": "Python 3"
    },
    "language_info": {
      "name": "python"
    }
  },
  "cells": [
    {
      "cell_type": "markdown",
      "source": [
        " ---\n",
        "# TUBES KELOMPOK 6 => Machine Learning\n",
        "# \"PREDIKSI HARGA BAWANG MERAH DI PASAR DAERAH NGANJUK BESERTA KLASIFIKASINYA BERDASAR KONDISI HARGA\"\n",
        "---\n",
        "<br>\n",
        "ANGGOTA KELOMPOK :\n",
        "\n",
        "1.   Nama       : ARIQ LUTHFI R.\n",
        "<br>Nim    : 2141723002\n",
        "<br>Kelas  :TI-3G\n",
        "<br>Absen  :05<br><br>\n",
        "2.   Nama       : GALILEY SINGGANG M.Y.\n",
        "<br>Nim    : 2141723001\n",
        "<br>Kelas  :TI-3G\n",
        "<br>Absen  :11<br><br>\n",
        "3. Nama       : MUH. Irfan Ali\n",
        "<br>Nim    : 2041720067\n",
        "<br>Kelas  :TI-3G\n",
        "<br>Absen  :15<br><br>\n",
        "\n",
        "\n"
      ],
      "metadata": {
        "id": "06Dkf2JVwdmg"
      }
    },
    {
      "cell_type": "markdown",
      "source": [
        "## PREDIKSI HARGA BAWANG ( REGRESI LINEAR )\n"
      ],
      "metadata": {
        "id": "LOXfxIiMxugy"
      }
    },
    {
      "cell_type": "markdown",
      "source": [
        "### Persiapan Data"
      ],
      "metadata": {
        "id": "KyevNS3Ux1tA"
      }
    },
    {
      "cell_type": "code",
      "source": [
        "from google.colab import drive\n",
        "drive.mount('/content/drive')"
      ],
      "metadata": {
        "colab": {
          "base_uri": "https://localhost:8080/"
        },
        "id": "0gXmvlCPHCmr",
        "outputId": "f056ccb0-db39-4205-a343-55a280691fe0"
      },
      "execution_count": 1,
      "outputs": [
        {
          "output_type": "stream",
          "name": "stdout",
          "text": [
            "Mounted at /content/drive\n"
          ]
        }
      ]
    },
    {
      "cell_type": "code",
      "execution_count": 22,
      "metadata": {
        "colab": {
          "base_uri": "https://localhost:8080/",
          "height": 206
        },
        "id": "LuR3fHUqD581",
        "outputId": "7dab5833-bdad-40e1-fd90-9439894b6905"
      },
      "outputs": [
        {
          "output_type": "execute_result",
          "data": {
            "text/plain": [
              "   id     pasar     tanggal  harga_terendah  harga_tertinggi  harga_jual  \\\n",
              "0   1  Sukomoro  2022-06-16           33000            34000       39000   \n",
              "1   2      Pace  2022-06-17           32000            35000       41000   \n",
              "2   3   Gondang  2022-06-18           34000            35000       42000   \n",
              "3   4  Sukomoro  2022-06-19           35000            35000       38000   \n",
              "4   5   Gondang  2022-06-20           34000            38000       45000   \n",
              "\n",
              "  kondisi  \n",
              "0   Turun  \n",
              "1   Turun  \n",
              "2   Turun  \n",
              "3   Turun  \n",
              "4    Naik  "
            ],
            "text/html": [
              "\n",
              "  <div id=\"df-f34e32e5-a984-433b-bc03-e60c223ab611\">\n",
              "    <div class=\"colab-df-container\">\n",
              "      <div>\n",
              "<style scoped>\n",
              "    .dataframe tbody tr th:only-of-type {\n",
              "        vertical-align: middle;\n",
              "    }\n",
              "\n",
              "    .dataframe tbody tr th {\n",
              "        vertical-align: top;\n",
              "    }\n",
              "\n",
              "    .dataframe thead th {\n",
              "        text-align: right;\n",
              "    }\n",
              "</style>\n",
              "<table border=\"1\" class=\"dataframe\">\n",
              "  <thead>\n",
              "    <tr style=\"text-align: right;\">\n",
              "      <th></th>\n",
              "      <th>id</th>\n",
              "      <th>pasar</th>\n",
              "      <th>tanggal</th>\n",
              "      <th>harga_terendah</th>\n",
              "      <th>harga_tertinggi</th>\n",
              "      <th>harga_jual</th>\n",
              "      <th>kondisi</th>\n",
              "    </tr>\n",
              "  </thead>\n",
              "  <tbody>\n",
              "    <tr>\n",
              "      <th>0</th>\n",
              "      <td>1</td>\n",
              "      <td>Sukomoro</td>\n",
              "      <td>2022-06-16</td>\n",
              "      <td>33000</td>\n",
              "      <td>34000</td>\n",
              "      <td>39000</td>\n",
              "      <td>Turun</td>\n",
              "    </tr>\n",
              "    <tr>\n",
              "      <th>1</th>\n",
              "      <td>2</td>\n",
              "      <td>Pace</td>\n",
              "      <td>2022-06-17</td>\n",
              "      <td>32000</td>\n",
              "      <td>35000</td>\n",
              "      <td>41000</td>\n",
              "      <td>Turun</td>\n",
              "    </tr>\n",
              "    <tr>\n",
              "      <th>2</th>\n",
              "      <td>3</td>\n",
              "      <td>Gondang</td>\n",
              "      <td>2022-06-18</td>\n",
              "      <td>34000</td>\n",
              "      <td>35000</td>\n",
              "      <td>42000</td>\n",
              "      <td>Turun</td>\n",
              "    </tr>\n",
              "    <tr>\n",
              "      <th>3</th>\n",
              "      <td>4</td>\n",
              "      <td>Sukomoro</td>\n",
              "      <td>2022-06-19</td>\n",
              "      <td>35000</td>\n",
              "      <td>35000</td>\n",
              "      <td>38000</td>\n",
              "      <td>Turun</td>\n",
              "    </tr>\n",
              "    <tr>\n",
              "      <th>4</th>\n",
              "      <td>5</td>\n",
              "      <td>Gondang</td>\n",
              "      <td>2022-06-20</td>\n",
              "      <td>34000</td>\n",
              "      <td>38000</td>\n",
              "      <td>45000</td>\n",
              "      <td>Naik</td>\n",
              "    </tr>\n",
              "  </tbody>\n",
              "</table>\n",
              "</div>\n",
              "      <button class=\"colab-df-convert\" onclick=\"convertToInteractive('df-f34e32e5-a984-433b-bc03-e60c223ab611')\"\n",
              "              title=\"Convert this dataframe to an interactive table.\"\n",
              "              style=\"display:none;\">\n",
              "        \n",
              "  <svg xmlns=\"http://www.w3.org/2000/svg\" height=\"24px\"viewBox=\"0 0 24 24\"\n",
              "       width=\"24px\">\n",
              "    <path d=\"M0 0h24v24H0V0z\" fill=\"none\"/>\n",
              "    <path d=\"M18.56 5.44l.94 2.06.94-2.06 2.06-.94-2.06-.94-.94-2.06-.94 2.06-2.06.94zm-11 1L8.5 8.5l.94-2.06 2.06-.94-2.06-.94L8.5 2.5l-.94 2.06-2.06.94zm10 10l.94 2.06.94-2.06 2.06-.94-2.06-.94-.94-2.06-.94 2.06-2.06.94z\"/><path d=\"M17.41 7.96l-1.37-1.37c-.4-.4-.92-.59-1.43-.59-.52 0-1.04.2-1.43.59L10.3 9.45l-7.72 7.72c-.78.78-.78 2.05 0 2.83L4 21.41c.39.39.9.59 1.41.59.51 0 1.02-.2 1.41-.59l7.78-7.78 2.81-2.81c.8-.78.8-2.07 0-2.86zM5.41 20L4 18.59l7.72-7.72 1.47 1.35L5.41 20z\"/>\n",
              "  </svg>\n",
              "      </button>\n",
              "      \n",
              "  <style>\n",
              "    .colab-df-container {\n",
              "      display:flex;\n",
              "      flex-wrap:wrap;\n",
              "      gap: 12px;\n",
              "    }\n",
              "\n",
              "    .colab-df-convert {\n",
              "      background-color: #E8F0FE;\n",
              "      border: none;\n",
              "      border-radius: 50%;\n",
              "      cursor: pointer;\n",
              "      display: none;\n",
              "      fill: #1967D2;\n",
              "      height: 32px;\n",
              "      padding: 0 0 0 0;\n",
              "      width: 32px;\n",
              "    }\n",
              "\n",
              "    .colab-df-convert:hover {\n",
              "      background-color: #E2EBFA;\n",
              "      box-shadow: 0px 1px 2px rgba(60, 64, 67, 0.3), 0px 1px 3px 1px rgba(60, 64, 67, 0.15);\n",
              "      fill: #174EA6;\n",
              "    }\n",
              "\n",
              "    [theme=dark] .colab-df-convert {\n",
              "      background-color: #3B4455;\n",
              "      fill: #D2E3FC;\n",
              "    }\n",
              "\n",
              "    [theme=dark] .colab-df-convert:hover {\n",
              "      background-color: #434B5C;\n",
              "      box-shadow: 0px 1px 3px 1px rgba(0, 0, 0, 0.15);\n",
              "      filter: drop-shadow(0px 1px 2px rgba(0, 0, 0, 0.3));\n",
              "      fill: #FFFFFF;\n",
              "    }\n",
              "  </style>\n",
              "\n",
              "      <script>\n",
              "        const buttonEl =\n",
              "          document.querySelector('#df-f34e32e5-a984-433b-bc03-e60c223ab611 button.colab-df-convert');\n",
              "        buttonEl.style.display =\n",
              "          google.colab.kernel.accessAllowed ? 'block' : 'none';\n",
              "\n",
              "        async function convertToInteractive(key) {\n",
              "          const element = document.querySelector('#df-f34e32e5-a984-433b-bc03-e60c223ab611');\n",
              "          const dataTable =\n",
              "            await google.colab.kernel.invokeFunction('convertToInteractive',\n",
              "                                                     [key], {});\n",
              "          if (!dataTable) return;\n",
              "\n",
              "          const docLinkHtml = 'Like what you see? Visit the ' +\n",
              "            '<a target=\"_blank\" href=https://colab.research.google.com/notebooks/data_table.ipynb>data table notebook</a>'\n",
              "            + ' to learn more about interactive tables.';\n",
              "          element.innerHTML = '';\n",
              "          dataTable['output_type'] = 'display_data';\n",
              "          await google.colab.output.renderOutput(dataTable, element);\n",
              "          const docLink = document.createElement('div');\n",
              "          docLink.innerHTML = docLinkHtml;\n",
              "          element.appendChild(docLink);\n",
              "        }\n",
              "      </script>\n",
              "    </div>\n",
              "  </div>\n",
              "  "
            ]
          },
          "metadata": {},
          "execution_count": 22
        }
      ],
      "source": [
        "import numpy as np\n",
        "import pandas as pd\n",
        "\n",
        "data = pd.read_csv('/content/drive/MyDrive/Statistika/Data/prediksi-harga-bawang.csv')\n",
        "\n",
        "data.head()"
      ]
    },
    {
      "cell_type": "code",
      "source": [
        "# pemahaman terhadap data\n",
        "# ukuran data\n",
        "data.shape\n",
        "\n",
        "# info data\n",
        "data.info()\n",
        "\n",
        "# deskripsi data\n",
        "data.describe()"
      ],
      "metadata": {
        "colab": {
          "base_uri": "https://localhost:8080/",
          "height": 543
        },
        "id": "cbl4HKwEHd4A",
        "outputId": "dd54b64a-42b3-4206-a930-9f9eb3fd989c"
      },
      "execution_count": 23,
      "outputs": [
        {
          "output_type": "stream",
          "name": "stdout",
          "text": [
            "<class 'pandas.core.frame.DataFrame'>\n",
            "RangeIndex: 39 entries, 0 to 38\n",
            "Data columns (total 7 columns):\n",
            " #   Column           Non-Null Count  Dtype \n",
            "---  ------           --------------  ----- \n",
            " 0   id               39 non-null     int64 \n",
            " 1   pasar            39 non-null     object\n",
            " 2   tanggal          39 non-null     object\n",
            " 3   harga_terendah   39 non-null     int64 \n",
            " 4   harga_tertinggi  39 non-null     int64 \n",
            " 5   harga_jual       39 non-null     int64 \n",
            " 6   kondisi          39 non-null     object\n",
            "dtypes: int64(4), object(3)\n",
            "memory usage: 2.3+ KB\n"
          ]
        },
        {
          "output_type": "execute_result",
          "data": {
            "text/plain": [
              "              id  harga_terendah  harga_tertinggi    harga_jual\n",
              "count  39.000000       39.000000        39.000000     39.000000\n",
              "mean   20.000000    35628.205128     43410.256410  48384.615385\n",
              "std    11.401754     3877.597514      6816.072139   5742.800457\n",
              "min     1.000000    31000.000000     30000.000000  38000.000000\n",
              "25%    10.500000    33000.000000     38000.000000  43000.000000\n",
              "50%    20.000000    34000.000000     45000.000000  51000.000000\n",
              "75%    29.500000    38000.000000     49500.000000  53000.000000\n",
              "max    39.000000    46000.000000     53000.000000  58000.000000"
            ],
            "text/html": [
              "\n",
              "  <div id=\"df-550a74a6-d1e8-4bc9-b5dd-df294c269b1c\">\n",
              "    <div class=\"colab-df-container\">\n",
              "      <div>\n",
              "<style scoped>\n",
              "    .dataframe tbody tr th:only-of-type {\n",
              "        vertical-align: middle;\n",
              "    }\n",
              "\n",
              "    .dataframe tbody tr th {\n",
              "        vertical-align: top;\n",
              "    }\n",
              "\n",
              "    .dataframe thead th {\n",
              "        text-align: right;\n",
              "    }\n",
              "</style>\n",
              "<table border=\"1\" class=\"dataframe\">\n",
              "  <thead>\n",
              "    <tr style=\"text-align: right;\">\n",
              "      <th></th>\n",
              "      <th>id</th>\n",
              "      <th>harga_terendah</th>\n",
              "      <th>harga_tertinggi</th>\n",
              "      <th>harga_jual</th>\n",
              "    </tr>\n",
              "  </thead>\n",
              "  <tbody>\n",
              "    <tr>\n",
              "      <th>count</th>\n",
              "      <td>39.000000</td>\n",
              "      <td>39.000000</td>\n",
              "      <td>39.000000</td>\n",
              "      <td>39.000000</td>\n",
              "    </tr>\n",
              "    <tr>\n",
              "      <th>mean</th>\n",
              "      <td>20.000000</td>\n",
              "      <td>35628.205128</td>\n",
              "      <td>43410.256410</td>\n",
              "      <td>48384.615385</td>\n",
              "    </tr>\n",
              "    <tr>\n",
              "      <th>std</th>\n",
              "      <td>11.401754</td>\n",
              "      <td>3877.597514</td>\n",
              "      <td>6816.072139</td>\n",
              "      <td>5742.800457</td>\n",
              "    </tr>\n",
              "    <tr>\n",
              "      <th>min</th>\n",
              "      <td>1.000000</td>\n",
              "      <td>31000.000000</td>\n",
              "      <td>30000.000000</td>\n",
              "      <td>38000.000000</td>\n",
              "    </tr>\n",
              "    <tr>\n",
              "      <th>25%</th>\n",
              "      <td>10.500000</td>\n",
              "      <td>33000.000000</td>\n",
              "      <td>38000.000000</td>\n",
              "      <td>43000.000000</td>\n",
              "    </tr>\n",
              "    <tr>\n",
              "      <th>50%</th>\n",
              "      <td>20.000000</td>\n",
              "      <td>34000.000000</td>\n",
              "      <td>45000.000000</td>\n",
              "      <td>51000.000000</td>\n",
              "    </tr>\n",
              "    <tr>\n",
              "      <th>75%</th>\n",
              "      <td>29.500000</td>\n",
              "      <td>38000.000000</td>\n",
              "      <td>49500.000000</td>\n",
              "      <td>53000.000000</td>\n",
              "    </tr>\n",
              "    <tr>\n",
              "      <th>max</th>\n",
              "      <td>39.000000</td>\n",
              "      <td>46000.000000</td>\n",
              "      <td>53000.000000</td>\n",
              "      <td>58000.000000</td>\n",
              "    </tr>\n",
              "  </tbody>\n",
              "</table>\n",
              "</div>\n",
              "      <button class=\"colab-df-convert\" onclick=\"convertToInteractive('df-550a74a6-d1e8-4bc9-b5dd-df294c269b1c')\"\n",
              "              title=\"Convert this dataframe to an interactive table.\"\n",
              "              style=\"display:none;\">\n",
              "        \n",
              "  <svg xmlns=\"http://www.w3.org/2000/svg\" height=\"24px\"viewBox=\"0 0 24 24\"\n",
              "       width=\"24px\">\n",
              "    <path d=\"M0 0h24v24H0V0z\" fill=\"none\"/>\n",
              "    <path d=\"M18.56 5.44l.94 2.06.94-2.06 2.06-.94-2.06-.94-.94-2.06-.94 2.06-2.06.94zm-11 1L8.5 8.5l.94-2.06 2.06-.94-2.06-.94L8.5 2.5l-.94 2.06-2.06.94zm10 10l.94 2.06.94-2.06 2.06-.94-2.06-.94-.94-2.06-.94 2.06-2.06.94z\"/><path d=\"M17.41 7.96l-1.37-1.37c-.4-.4-.92-.59-1.43-.59-.52 0-1.04.2-1.43.59L10.3 9.45l-7.72 7.72c-.78.78-.78 2.05 0 2.83L4 21.41c.39.39.9.59 1.41.59.51 0 1.02-.2 1.41-.59l7.78-7.78 2.81-2.81c.8-.78.8-2.07 0-2.86zM5.41 20L4 18.59l7.72-7.72 1.47 1.35L5.41 20z\"/>\n",
              "  </svg>\n",
              "      </button>\n",
              "      \n",
              "  <style>\n",
              "    .colab-df-container {\n",
              "      display:flex;\n",
              "      flex-wrap:wrap;\n",
              "      gap: 12px;\n",
              "    }\n",
              "\n",
              "    .colab-df-convert {\n",
              "      background-color: #E8F0FE;\n",
              "      border: none;\n",
              "      border-radius: 50%;\n",
              "      cursor: pointer;\n",
              "      display: none;\n",
              "      fill: #1967D2;\n",
              "      height: 32px;\n",
              "      padding: 0 0 0 0;\n",
              "      width: 32px;\n",
              "    }\n",
              "\n",
              "    .colab-df-convert:hover {\n",
              "      background-color: #E2EBFA;\n",
              "      box-shadow: 0px 1px 2px rgba(60, 64, 67, 0.3), 0px 1px 3px 1px rgba(60, 64, 67, 0.15);\n",
              "      fill: #174EA6;\n",
              "    }\n",
              "\n",
              "    [theme=dark] .colab-df-convert {\n",
              "      background-color: #3B4455;\n",
              "      fill: #D2E3FC;\n",
              "    }\n",
              "\n",
              "    [theme=dark] .colab-df-convert:hover {\n",
              "      background-color: #434B5C;\n",
              "      box-shadow: 0px 1px 3px 1px rgba(0, 0, 0, 0.15);\n",
              "      filter: drop-shadow(0px 1px 2px rgba(0, 0, 0, 0.3));\n",
              "      fill: #FFFFFF;\n",
              "    }\n",
              "  </style>\n",
              "\n",
              "      <script>\n",
              "        const buttonEl =\n",
              "          document.querySelector('#df-550a74a6-d1e8-4bc9-b5dd-df294c269b1c button.colab-df-convert');\n",
              "        buttonEl.style.display =\n",
              "          google.colab.kernel.accessAllowed ? 'block' : 'none';\n",
              "\n",
              "        async function convertToInteractive(key) {\n",
              "          const element = document.querySelector('#df-550a74a6-d1e8-4bc9-b5dd-df294c269b1c');\n",
              "          const dataTable =\n",
              "            await google.colab.kernel.invokeFunction('convertToInteractive',\n",
              "                                                     [key], {});\n",
              "          if (!dataTable) return;\n",
              "\n",
              "          const docLinkHtml = 'Like what you see? Visit the ' +\n",
              "            '<a target=\"_blank\" href=https://colab.research.google.com/notebooks/data_table.ipynb>data table notebook</a>'\n",
              "            + ' to learn more about interactive tables.';\n",
              "          element.innerHTML = '';\n",
              "          dataTable['output_type'] = 'display_data';\n",
              "          await google.colab.output.renderOutput(dataTable, element);\n",
              "          const docLink = document.createElement('div');\n",
              "          docLink.innerHTML = docLinkHtml;\n",
              "          element.appendChild(docLink);\n",
              "        }\n",
              "      </script>\n",
              "    </div>\n",
              "  </div>\n",
              "  "
            ]
          },
          "metadata": {},
          "execution_count": 23
        }
      ]
    },
    {
      "cell_type": "markdown",
      "source": [
        "### Visualisasi Data"
      ],
      "metadata": {
        "id": "DqNXdY7WyDyQ"
      }
    },
    {
      "cell_type": "code",
      "source": [
        "# import library untuk visualisasi\n",
        "import matplotlib.pyplot as plt \n",
        "import seaborn as sns\n",
        "\n",
        "# operasi visualisasi\n",
        "sns.pairplot(data, x_vars=['harga_terendah' , 'harga_tertinggi'], \n",
        "             y_vars='harga_jual', size=4, aspect=1, kind='scatter')\n",
        "plt.show()"
      ],
      "metadata": {
        "colab": {
          "base_uri": "https://localhost:8080/",
          "height": 358
        },
        "id": "SSqo9f0zJlWO",
        "outputId": "7ed11ba5-5069-4722-e3a1-bf1a402ea321"
      },
      "execution_count": 8,
      "outputs": [
        {
          "output_type": "stream",
          "name": "stderr",
          "text": [
            "/usr/local/lib/python3.8/dist-packages/seaborn/axisgrid.py:2076: UserWarning: The `size` parameter has been renamed to `height`; please update your code.\n",
            "  warnings.warn(msg, UserWarning)\n"
          ]
        },
        {
          "output_type": "display_data",
          "data": {
            "text/plain": [
              "<Figure size 576x288 with 2 Axes>"
            ],
            "image/png": "[encoded data removed]"
          },
          "metadata": {
            "needs_background": "light"
          }
        }
      ]
    },
    {
      "cell_type": "markdown",
      "source": [
        "output di atas kurang bisa menunjukkan korelasi antar data dalam x dengan data dalam y. Salah satu solusinya adalah menggunakan heatmap"
      ],
      "metadata": {
        "id": "HAJjkw2dyKkS"
      }
    },
    {
      "cell_type": "code",
      "source": [
        "sns.heatmap(data.corr(), cmap=\"YlGnBu\", annot = True)\n",
        "plt.show()"
      ],
      "metadata": {
        "colab": {
          "base_uri": "https://localhost:8080/",
          "height": 339
        },
        "id": "0R43SYl7JzGd",
        "outputId": "3e1ba5e0-e3c8-4adc-a601-5f00ac29170e"
      },
      "execution_count": 9,
      "outputs": [
        {
          "output_type": "display_data",
          "data": {
            "text/plain": [
              "<Figure size 432x288 with 2 Axes>"
            ],
            "image/png": "[encoded data removed]"
          },
          "metadata": {
            "needs_background": "light"
          }
        }
      ]
    },
    {
      "cell_type": "markdown",
      "source": [
        "dari bentuk visualisasi di atas terlihat bahwa harga_tertinggi memiliki korelasi yang paling kuat terhadap harga_jual\n",
        "\n"
      ],
      "metadata": {
        "id": "dfXPAVYPyQgU"
      }
    },
    {
      "cell_type": "markdown",
      "source": [
        "### Regresi Linear"
      ],
      "metadata": {
        "id": "v2H9PziuyZVI"
      }
    },
    {
      "cell_type": "code",
      "source": [
        "# Buat variabel bebas X dan Y, sebagai contoh ambil dari hasil analisis korelasi dari kegaitan sebelumnya\n",
        "X = data['harga_tertinggi']\n",
        "y = data['harga_jual']\n",
        "\n",
        "# Buat pemisahan data uji dan data latih dengan proporsi 7:3\n",
        "from sklearn.model_selection import train_test_split\n",
        "X_train, X_test, y_train, y_test = train_test_split(X, y, train_size = 0.7, \n",
        "                                                    test_size = 0.3, random_state = 100)\n",
        "\n",
        "# hasil training dtaset\n",
        "X_train\n",
        "y_train"
      ],
      "metadata": {
        "id": "XvOUsMWHKAAG",
        "colab": {
          "base_uri": "https://localhost:8080/"
        },
        "outputId": "5db7a88a-9eb4-4611-f59c-f42478a3fea3"
      },
      "execution_count": 12,
      "outputs": [
        {
          "output_type": "execute_result",
          "data": {
            "text/plain": [
              "5     43000\n",
              "13    41000\n",
              "1     41000\n",
              "29    52500\n",
              "12    49000\n",
              "25    55000\n",
              "9     43500\n",
              "35    52000\n",
              "11    44000\n",
              "4     45000\n",
              "34    53000\n",
              "16    43000\n",
              "17    43000\n",
              "27    52000\n",
              "14    42000\n",
              "28    54500\n",
              "32    52500\n",
              "21    58000\n",
              "2     42000\n",
              "20    55000\n",
              "30    52000\n",
              "10    42000\n",
              "15    44000\n",
              "23    54500\n",
              "3     38000\n",
              "24    52500\n",
              "8     47000\n",
              "Name: harga_jual, dtype: int64"
            ]
          },
          "metadata": {},
          "execution_count": 12
        }
      ]
    },
    {
      "cell_type": "code",
      "source": [
        "# training model\n",
        "import statsmodels.api as sm\n",
        "\n",
        "X_train_sm = sm.add_constant(X_train)\n",
        "\n",
        "# fitting garis regresi\n",
        "lr = sm.OLS(y_train, X_train_sm).fit()\n",
        "lr.params"
      ],
      "metadata": {
        "colab": {
          "base_uri": "https://localhost:8080/"
        },
        "id": "nblEGtriKMEW",
        "outputId": "da57de39-b6ec-40bd-dc45-92efc911c609"
      },
      "execution_count": 13,
      "outputs": [
        {
          "output_type": "stream",
          "name": "stderr",
          "text": [
            "/usr/local/lib/python3.8/dist-packages/statsmodels/tsa/tsatools.py:142: FutureWarning: In a future version of pandas all arguments of concat except for the argument 'objs' will be keyword-only\n",
            "  x = pd.concat(x[::order], 1)\n"
          ]
        },
        {
          "output_type": "execute_result",
          "data": {
            "text/plain": [
              "const              14415.708812\n",
              "harga_tertinggi        0.778736\n",
              "dtype: float64"
            ]
          },
          "metadata": {},
          "execution_count": 13
        }
      ]
    },
    {
      "cell_type": "code",
      "source": [
        "# analisis statistika dari garis regresi\n",
        "lr.summary()"
      ],
      "metadata": {
        "colab": {
          "base_uri": "https://localhost:8080/",
          "height": 486
        },
        "id": "SnsZuYDuK5uu",
        "outputId": "d573981e-ceda-4ac6-e2dd-ac8c0ca6e17d"
      },
      "execution_count": 14,
      "outputs": [
        {
          "output_type": "execute_result",
          "data": {
            "text/plain": [
              "<class 'statsmodels.iolib.summary.Summary'>\n",
              "\"\"\"\n",
              "                            OLS Regression Results                            \n",
              "==============================================================================\n",
              "Dep. Variable:             harga_jual   R-squared:                       0.846\n",
              "Model:                            OLS   Adj. R-squared:                  0.839\n",
              "Method:                 Least Squares   F-statistic:                     137.0\n",
              "Date:                Tue, 20 Dec 2022   Prob (F-statistic):           1.23e-11\n",
              "Time:                        15:34:10   Log-Likelihood:                -246.31\n",
              "No. Observations:                  27   AIC:                             496.6\n",
              "Df Residuals:                      25   BIC:                             499.2\n",
              "Df Model:                           1                                         \n",
              "Covariance Type:            nonrobust                                         \n",
              "===================================================================================\n",
              "                      coef    std err          t      P>|t|      [0.025      0.975]\n",
              "-----------------------------------------------------------------------------------\n",
              "const            1.442e+04   2887.930      4.992      0.000    8467.906    2.04e+04\n",
              "harga_tertinggi     0.7787      0.067     11.704      0.000       0.642       0.916\n",
              "==============================================================================\n",
              "Omnibus:                        0.987   Durbin-Watson:                   1.713\n",
              "Prob(Omnibus):                  0.611   Jarque-Bera (JB):                0.985\n",
              "Skew:                           0.359   Prob(JB):                        0.611\n",
              "Kurtosis:                       2.399   Cond. No.                     2.83e+05\n",
              "==============================================================================\n",
              "\n",
              "Notes:\n",
              "[1] Standard Errors assume that the covariance matrix of the errors is correctly specified.\n",
              "[2] The condition number is large, 2.83e+05. This might indicate that there are\n",
              "strong multicollinearity or other numerical problems.\n",
              "\"\"\""
            ],
            "text/html": [
              "<table class=\"simpletable\">\n",
              "<caption>OLS Regression Results</caption>\n",
              "<tr>\n",
              "  <th>Dep. Variable:</th>       <td>harga_jual</td>    <th>  R-squared:         </th> <td>   0.846</td>\n",
              "</tr>\n",
              "<tr>\n",
              "  <th>Model:</th>                   <td>OLS</td>       <th>  Adj. R-squared:    </th> <td>   0.839</td>\n",
              "</tr>\n",
              "<tr>\n",
              "  <th>Method:</th>             <td>Least Squares</td>  <th>  F-statistic:       </th> <td>   137.0</td>\n",
              "</tr>\n",
              "<tr>\n",
              "  <th>Date:</th>             <td>Tue, 20 Dec 2022</td> <th>  Prob (F-statistic):</th> <td>1.23e-11</td>\n",
              "</tr>\n",
              "<tr>\n",
              "  <th>Time:</th>                 <td>15:34:10</td>     <th>  Log-Likelihood:    </th> <td> -246.31</td>\n",
              "</tr>\n",
              "<tr>\n",
              "  <th>No. Observations:</th>      <td>    27</td>      <th>  AIC:               </th> <td>   496.6</td>\n",
              "</tr>\n",
              "<tr>\n",
              "  <th>Df Residuals:</th>          <td>    25</td>      <th>  BIC:               </th> <td>   499.2</td>\n",
              "</tr>\n",
              "<tr>\n",
              "  <th>Df Model:</th>              <td>     1</td>      <th>                     </th>     <td> </td>   \n",
              "</tr>\n",
              "<tr>\n",
              "  <th>Covariance Type:</th>      <td>nonrobust</td>    <th>                     </th>     <td> </td>   \n",
              "</tr>\n",
              "</table>\n",
              "<table class=\"simpletable\">\n",
              "<tr>\n",
              "         <td></td>            <th>coef</th>     <th>std err</th>      <th>t</th>      <th>P>|t|</th>  <th>[0.025</th>    <th>0.975]</th>  \n",
              "</tr>\n",
              "<tr>\n",
              "  <th>const</th>           <td> 1.442e+04</td> <td> 2887.930</td> <td>    4.992</td> <td> 0.000</td> <td> 8467.906</td> <td> 2.04e+04</td>\n",
              "</tr>\n",
              "<tr>\n",
              "  <th>harga_tertinggi</th> <td>    0.7787</td> <td>    0.067</td> <td>   11.704</td> <td> 0.000</td> <td>    0.642</td> <td>    0.916</td>\n",
              "</tr>\n",
              "</table>\n",
              "<table class=\"simpletable\">\n",
              "<tr>\n",
              "  <th>Omnibus:</th>       <td> 0.987</td> <th>  Durbin-Watson:     </th> <td>   1.713</td>\n",
              "</tr>\n",
              "<tr>\n",
              "  <th>Prob(Omnibus):</th> <td> 0.611</td> <th>  Jarque-Bera (JB):  </th> <td>   0.985</td>\n",
              "</tr>\n",
              "<tr>\n",
              "  <th>Skew:</th>          <td> 0.359</td> <th>  Prob(JB):          </th> <td>   0.611</td>\n",
              "</tr>\n",
              "<tr>\n",
              "  <th>Kurtosis:</th>      <td> 2.399</td> <th>  Cond. No.          </th> <td>2.83e+05</td>\n",
              "</tr>\n",
              "</table><br/><br/>Notes:<br/>[1] Standard Errors assume that the covariance matrix of the errors is correctly specified.<br/>[2] The condition number is large, 2.83e+05. This might indicate that there are<br/>strong multicollinearity or other numerical problems."
            ]
          },
          "metadata": {},
          "execution_count": 14
        }
      ]
    },
    {
      "cell_type": "code",
      "source": [
        "# visualisasi garis regresi\n",
        "plt.scatter(X_train, y_train)\n",
        "plt.plot(X_train, 14415.708812 + 0.778736*X_train, 'r')\n",
        "plt.show()"
      ],
      "metadata": {
        "colab": {
          "base_uri": "https://localhost:8080/",
          "height": 265
        },
        "id": "ZZFLQ-A9K77u",
        "outputId": "a4e620b1-b905-4a92-d3ab-eaa9f3ec4218"
      },
      "execution_count": 15,
      "outputs": [
        {
          "output_type": "display_data",
          "data": {
            "text/plain": [
              "<Figure size 432x288 with 1 Axes>"
            ],
            "image/png": "[encoded data removed]"
          },
          "metadata": {
            "needs_background": "light"
          }
        }
      ]
    },
    {
      "cell_type": "markdown",
      "source": [
        "### Residual Analysis\n",
        "dipakai untuk mengetahui tingkat error dari variabel yang dipengaruhi (y)\n",
        "\n",
        "Error = Actual y value - y predicted value"
      ],
      "metadata": {
        "id": "kdFCszBaykhQ"
      }
    },
    {
      "cell_type": "code",
      "source": [
        "# prediksi y_value dari data x yang telah dilatih\n",
        "y_train_pred = lr.predict(X_train_sm)\n",
        "\n",
        "res = (y_train - y_train_pred)"
      ],
      "metadata": {
        "id": "uEHZJCtzLEbU"
      },
      "execution_count": 16,
      "outputs": []
    },
    {
      "cell_type": "code",
      "source": [
        "# cek histogram apakah berdistribusi normal atau tidak\n",
        "fig = plt.figure()\n",
        "sns.distplot(res, bins = 15)\n",
        "plt.title('Error Terms', fontsize = 15)\n",
        "plt.xlabel('y_train - y_train_pred', fontsize = 15)\n",
        "plt.show()"
      ],
      "metadata": {
        "colab": {
          "base_uri": "https://localhost:8080/",
          "height": 359
        },
        "id": "VUj2r50wLI2k",
        "outputId": "a0ec17b3-7dd0-4706-f891-f2ed3d1e293b"
      },
      "execution_count": 17,
      "outputs": [
        {
          "output_type": "stream",
          "name": "stderr",
          "text": [
            "/usr/local/lib/python3.8/dist-packages/seaborn/distributions.py:2619: FutureWarning: `distplot` is a deprecated function and will be removed in a future version. Please adapt your code to use either `displot` (a figure-level function with similar flexibility) or `histplot` (an axes-level function for histograms).\n",
            "  warnings.warn(msg, FutureWarning)\n"
          ]
        },
        {
          "output_type": "display_data",
          "data": {
            "text/plain": [
              "<Figure size 432x288 with 1 Axes>"
            ],
            "image/png": "[encoded data removed]"
          },
          "metadata": {
            "needs_background": "light"
          }
        }
      ]
    },
    {
      "cell_type": "code",
      "source": [
        "plt.scatter(X_train,res)\n",
        "plt.show()"
      ],
      "metadata": {
        "colab": {
          "base_uri": "https://localhost:8080/",
          "height": 265
        },
        "id": "UIs-zd2rLXL8",
        "outputId": "c50feaaf-a39c-42cc-e4f0-2e7840289824"
      },
      "execution_count": 18,
      "outputs": [
        {
          "output_type": "display_data",
          "data": {
            "text/plain": [
              "<Figure size 432x288 with 1 Axes>"
            ],
            "image/png": "[encoded data removed]"
          },
          "metadata": {
            "needs_background": "light"
          }
        }
      ]
    },
    {
      "cell_type": "code",
      "source": [
        "# prediksi pada data uji dan evaluasi model\n",
        "X_test_sm = sm.add_constant(X_test)\n",
        "\n",
        "# prediksi y value yang berkorelasi dengan X_test_sm\n",
        "y_test_pred = lr.predict(X_test_sm)\n",
        "\n",
        "# cetak 5 data terprediksi teratas\n",
        "y_test_pred.head()"
      ],
      "metadata": {
        "colab": {
          "base_uri": "https://localhost:8080/"
        },
        "id": "VGv1OSFlLZoM",
        "outputId": "e75f2dae-e09d-43a6-e856-7d89fe1fca0d"
      },
      "execution_count": 19,
      "outputs": [
        {
          "output_type": "stream",
          "name": "stderr",
          "text": [
            "/usr/local/lib/python3.8/dist-packages/statsmodels/tsa/tsatools.py:142: FutureWarning: In a future version of pandas all arguments of concat except for the argument 'objs' will be keyword-only\n",
            "  x = pd.concat(x[::order], 1)\n"
          ]
        },
        {
          "output_type": "execute_result",
          "data": {
            "text/plain": [
              "18    46343.869732\n",
              "19    55688.697318\n",
              "37    51016.283525\n",
              "0     40892.720307\n",
              "38    49458.812261\n",
              "dtype: float64"
            ]
          },
          "metadata": {},
          "execution_count": 19
        }
      ]
    },
    {
      "cell_type": "code",
      "source": [
        "# hitung nilai r^2\n",
        "from sklearn.metrics import r2_score\n",
        "\n",
        "r_squared = r2_score(y_test, y_test_pred)\n",
        "r_squared"
      ],
      "metadata": {
        "colab": {
          "base_uri": "https://localhost:8080/"
        },
        "id": "dAuSr8YFLaQN",
        "outputId": "6ec03041-8b27-4cb7-d438-231adf495062"
      },
      "execution_count": 20,
      "outputs": [
        {
          "output_type": "execute_result",
          "data": {
            "text/plain": [
              "0.9308818552867556"
            ]
          },
          "metadata": {},
          "execution_count": 20
        }
      ]
    },
    {
      "cell_type": "markdown",
      "source": [
        "perlu diperhatikan bahwa r^2 dari data training adalah 0.846 sedangkan dari data testing adalah 0,930. Hal ini berarti model yang dibentuk cukup stabil (tidak berselisih jauh antara training dengan testing)"
      ],
      "metadata": {
        "id": "2E-jzFl5yqnS"
      }
    },
    {
      "cell_type": "code",
      "source": [
        "# visualisasi data\n",
        "plt.scatter(X_test, y_test)\n",
        "plt.plot(X_test, y_test_pred, 'r')\n",
        "plt.show()"
      ],
      "metadata": {
        "colab": {
          "base_uri": "https://localhost:8080/",
          "height": 265
        },
        "id": "jrqXDBItLb4U",
        "outputId": "41dffcac-6dff-42b4-bb8b-641100c8146c"
      },
      "execution_count": 21,
      "outputs": [
        {
          "output_type": "display_data",
          "data": {
            "text/plain": [
              "<Figure size 432x288 with 1 Axes>"
            ],
            "image/png": "[encoded data removed]"
          },
          "metadata": {
            "needs_background": "light"
          }
        }
      ]
    },
    {
      "cell_type": "markdown",
      "source": [
        "## KLASIFIKASI HARGA SESUAI DENGAN KONDISI (CLASIFIER MENGGUNAKAN DECISION TREE DAN SVM)"
      ],
      "metadata": {
        "id": "cuUINa-_zAPn"
      }
    },
    {
      "cell_type": "markdown",
      "source": [
        "### Persiapan Data"
      ],
      "metadata": {
        "id": "rTGo9unlz3tg"
      }
    },
    {
      "cell_type": "code",
      "source": [
        "import numpy as np\n",
        "import pandas as pd\n",
        "import matplotlib.pyplot as plt\n",
        "import os\n",
        "from sklearn.tree import DecisionTreeClassifier # import DT\n",
        "from sklearn.ensemble import RandomForestClassifier # import RandomForest\n",
        "from sklearn.model_selection import train_test_split, GridSearchCV\n",
        "from sklearn.metrics import accuracy_score, classification_report, confusion_matrix,classification_report,roc_auc_score, roc_curve\n",
        "\n",
        "# Load data\n",
        "df = pd.read_csv('/content/drive/MyDrive/Statistika/Data/prediksi-harga-bawang.csv')\n",
        "\n",
        "df.head()"
      ],
      "metadata": {
        "colab": {
          "base_uri": "https://localhost:8080/",
          "height": 206
        },
        "id": "UL7w7iEez8Eh",
        "outputId": "21182a40-cd91-4cab-f775-325e7a4e5a90"
      },
      "execution_count": 31,
      "outputs": [
        {
          "output_type": "execute_result",
          "data": {
            "text/plain": [
              "   id     pasar     tanggal  harga_terendah  harga_tertinggi  harga_jual  \\\n",
              "0   1  Sukomoro  2022-06-16           33000            34000       39000   \n",
              "1   2      Pace  2022-06-17           32000            35000       41000   \n",
              "2   3   Gondang  2022-06-18           34000            35000       42000   \n",
              "3   4  Sukomoro  2022-06-19           35000            35000       38000   \n",
              "4   5   Gondang  2022-06-20           34000            38000       45000   \n",
              "\n",
              "  kondisi  \n",
              "0   Turun  \n",
              "1   Turun  \n",
              "2   Turun  \n",
              "3   Turun  \n",
              "4    Naik  "
            ],
            "text/html": [
              "\n",
              "  <div id=\"df-2be525d1-f32a-4372-ba74-b18439124d8f\">\n",
              "    <div class=\"colab-df-container\">\n",
              "      <div>\n",
              "<style scoped>\n",
              "    .dataframe tbody tr th:only-of-type {\n",
              "        vertical-align: middle;\n",
              "    }\n",
              "\n",
              "    .dataframe tbody tr th {\n",
              "        vertical-align: top;\n",
              "    }\n",
              "\n",
              "    .dataframe thead th {\n",
              "        text-align: right;\n",
              "    }\n",
              "</style>\n",
              "<table border=\"1\" class=\"dataframe\">\n",
              "  <thead>\n",
              "    <tr style=\"text-align: right;\">\n",
              "      <th></th>\n",
              "      <th>id</th>\n",
              "      <th>pasar</th>\n",
              "      <th>tanggal</th>\n",
              "      <th>harga_terendah</th>\n",
              "      <th>harga_tertinggi</th>\n",
              "      <th>harga_jual</th>\n",
              "      <th>kondisi</th>\n",
              "    </tr>\n",
              "  </thead>\n",
              "  <tbody>\n",
              "    <tr>\n",
              "      <th>0</th>\n",
              "      <td>1</td>\n",
              "      <td>Sukomoro</td>\n",
              "      <td>2022-06-16</td>\n",
              "      <td>33000</td>\n",
              "      <td>34000</td>\n",
              "      <td>39000</td>\n",
              "      <td>Turun</td>\n",
              "    </tr>\n",
              "    <tr>\n",
              "      <th>1</th>\n",
              "      <td>2</td>\n",
              "      <td>Pace</td>\n",
              "      <td>2022-06-17</td>\n",
              "      <td>32000</td>\n",
              "      <td>35000</td>\n",
              "      <td>41000</td>\n",
              "      <td>Turun</td>\n",
              "    </tr>\n",
              "    <tr>\n",
              "      <th>2</th>\n",
              "      <td>3</td>\n",
              "      <td>Gondang</td>\n",
              "      <td>2022-06-18</td>\n",
              "      <td>34000</td>\n",
              "      <td>35000</td>\n",
              "      <td>42000</td>\n",
              "      <td>Turun</td>\n",
              "    </tr>\n",
              "    <tr>\n",
              "      <th>3</th>\n",
              "      <td>4</td>\n",
              "      <td>Sukomoro</td>\n",
              "      <td>2022-06-19</td>\n",
              "      <td>35000</td>\n",
              "      <td>35000</td>\n",
              "      <td>38000</td>\n",
              "      <td>Turun</td>\n",
              "    </tr>\n",
              "    <tr>\n",
              "      <th>4</th>\n",
              "      <td>5</td>\n",
              "      <td>Gondang</td>\n",
              "      <td>2022-06-20</td>\n",
              "      <td>34000</td>\n",
              "      <td>38000</td>\n",
              "      <td>45000</td>\n",
              "      <td>Naik</td>\n",
              "    </tr>\n",
              "  </tbody>\n",
              "</table>\n",
              "</div>\n",
              "      <button class=\"colab-df-convert\" onclick=\"convertToInteractive('df-2be525d1-f32a-4372-ba74-b18439124d8f')\"\n",
              "              title=\"Convert this dataframe to an interactive table.\"\n",
              "              style=\"display:none;\">\n",
              "        \n",
              "  <svg xmlns=\"http://www.w3.org/2000/svg\" height=\"24px\"viewBox=\"0 0 24 24\"\n",
              "       width=\"24px\">\n",
              "    <path d=\"M0 0h24v24H0V0z\" fill=\"none\"/>\n",
              "    <path d=\"M18.56 5.44l.94 2.06.94-2.06 2.06-.94-2.06-.94-.94-2.06-.94 2.06-2.06.94zm-11 1L8.5 8.5l.94-2.06 2.06-.94-2.06-.94L8.5 2.5l-.94 2.06-2.06.94zm10 10l.94 2.06.94-2.06 2.06-.94-2.06-.94-.94-2.06-.94 2.06-2.06.94z\"/><path d=\"M17.41 7.96l-1.37-1.37c-.4-.4-.92-.59-1.43-.59-.52 0-1.04.2-1.43.59L10.3 9.45l-7.72 7.72c-.78.78-.78 2.05 0 2.83L4 21.41c.39.39.9.59 1.41.59.51 0 1.02-.2 1.41-.59l7.78-7.78 2.81-2.81c.8-.78.8-2.07 0-2.86zM5.41 20L4 18.59l7.72-7.72 1.47 1.35L5.41 20z\"/>\n",
              "  </svg>\n",
              "      </button>\n",
              "      \n",
              "  <style>\n",
              "    .colab-df-container {\n",
              "      display:flex;\n",
              "      flex-wrap:wrap;\n",
              "      gap: 12px;\n",
              "    }\n",
              "\n",
              "    .colab-df-convert {\n",
              "      background-color: #E8F0FE;\n",
              "      border: none;\n",
              "      border-radius: 50%;\n",
              "      cursor: pointer;\n",
              "      display: none;\n",
              "      fill: #1967D2;\n",
              "      height: 32px;\n",
              "      padding: 0 0 0 0;\n",
              "      width: 32px;\n",
              "    }\n",
              "\n",
              "    .colab-df-convert:hover {\n",
              "      background-color: #E2EBFA;\n",
              "      box-shadow: 0px 1px 2px rgba(60, 64, 67, 0.3), 0px 1px 3px 1px rgba(60, 64, 67, 0.15);\n",
              "      fill: #174EA6;\n",
              "    }\n",
              "\n",
              "    [theme=dark] .colab-df-convert {\n",
              "      background-color: #3B4455;\n",
              "      fill: #D2E3FC;\n",
              "    }\n",
              "\n",
              "    [theme=dark] .colab-df-convert:hover {\n",
              "      background-color: #434B5C;\n",
              "      box-shadow: 0px 1px 3px 1px rgba(0, 0, 0, 0.15);\n",
              "      filter: drop-shadow(0px 1px 2px rgba(0, 0, 0, 0.3));\n",
              "      fill: #FFFFFF;\n",
              "    }\n",
              "  </style>\n",
              "\n",
              "      <script>\n",
              "        const buttonEl =\n",
              "          document.querySelector('#df-2be525d1-f32a-4372-ba74-b18439124d8f button.colab-df-convert');\n",
              "        buttonEl.style.display =\n",
              "          google.colab.kernel.accessAllowed ? 'block' : 'none';\n",
              "\n",
              "        async function convertToInteractive(key) {\n",
              "          const element = document.querySelector('#df-2be525d1-f32a-4372-ba74-b18439124d8f');\n",
              "          const dataTable =\n",
              "            await google.colab.kernel.invokeFunction('convertToInteractive',\n",
              "                                                     [key], {});\n",
              "          if (!dataTable) return;\n",
              "\n",
              "          const docLinkHtml = 'Like what you see? Visit the ' +\n",
              "            '<a target=\"_blank\" href=https://colab.research.google.com/notebooks/data_table.ipynb>data table notebook</a>'\n",
              "            + ' to learn more about interactive tables.';\n",
              "          element.innerHTML = '';\n",
              "          dataTable['output_type'] = 'display_data';\n",
              "          await google.colab.output.renderOutput(dataTable, element);\n",
              "          const docLink = document.createElement('div');\n",
              "          docLink.innerHTML = docLinkHtml;\n",
              "          element.appendChild(docLink);\n",
              "        }\n",
              "      </script>\n",
              "    </div>\n",
              "  </div>\n",
              "  "
            ]
          },
          "metadata": {},
          "execution_count": 31
        }
      ]
    },
    {
      "cell_type": "code",
      "source": [
        "# pemahaman terhadap data\n",
        "# ukuran data\n",
        "df.shape\n",
        "\n",
        "# info data\n",
        "df.info()\n",
        "\n",
        "# deskripsi data\n",
        "df.describe()"
      ],
      "metadata": {
        "colab": {
          "base_uri": "https://localhost:8080/",
          "height": 543
        },
        "id": "BPEQSee_0FRx",
        "outputId": "4ef82b10-f2f4-44bd-a1f8-4b9d865832ca"
      },
      "execution_count": 32,
      "outputs": [
        {
          "output_type": "stream",
          "name": "stdout",
          "text": [
            "<class 'pandas.core.frame.DataFrame'>\n",
            "RangeIndex: 39 entries, 0 to 38\n",
            "Data columns (total 7 columns):\n",
            " #   Column           Non-Null Count  Dtype \n",
            "---  ------           --------------  ----- \n",
            " 0   id               39 non-null     int64 \n",
            " 1   pasar            39 non-null     object\n",
            " 2   tanggal          39 non-null     object\n",
            " 3   harga_terendah   39 non-null     int64 \n",
            " 4   harga_tertinggi  39 non-null     int64 \n",
            " 5   harga_jual       39 non-null     int64 \n",
            " 6   kondisi          39 non-null     object\n",
            "dtypes: int64(4), object(3)\n",
            "memory usage: 2.3+ KB\n"
          ]
        },
        {
          "output_type": "execute_result",
          "data": {
            "text/plain": [
              "              id  harga_terendah  harga_tertinggi    harga_jual\n",
              "count  39.000000       39.000000        39.000000     39.000000\n",
              "mean   20.000000    35628.205128     43410.256410  48384.615385\n",
              "std    11.401754     3877.597514      6816.072139   5742.800457\n",
              "min     1.000000    31000.000000     30000.000000  38000.000000\n",
              "25%    10.500000    33000.000000     38000.000000  43000.000000\n",
              "50%    20.000000    34000.000000     45000.000000  51000.000000\n",
              "75%    29.500000    38000.000000     49500.000000  53000.000000\n",
              "max    39.000000    46000.000000     53000.000000  58000.000000"
            ],
            "text/html": [
              "\n",
              "  <div id=\"df-a499d60e-a6a8-4bb9-bd71-d22431548782\">\n",
              "    <div class=\"colab-df-container\">\n",
              "      <div>\n",
              "<style scoped>\n",
              "    .dataframe tbody tr th:only-of-type {\n",
              "        vertical-align: middle;\n",
              "    }\n",
              "\n",
              "    .dataframe tbody tr th {\n",
              "        vertical-align: top;\n",
              "    }\n",
              "\n",
              "    .dataframe thead th {\n",
              "        text-align: right;\n",
              "    }\n",
              "</style>\n",
              "<table border=\"1\" class=\"dataframe\">\n",
              "  <thead>\n",
              "    <tr style=\"text-align: right;\">\n",
              "      <th></th>\n",
              "      <th>id</th>\n",
              "      <th>harga_terendah</th>\n",
              "      <th>harga_tertinggi</th>\n",
              "      <th>harga_jual</th>\n",
              "    </tr>\n",
              "  </thead>\n",
              "  <tbody>\n",
              "    <tr>\n",
              "      <th>count</th>\n",
              "      <td>39.000000</td>\n",
              "      <td>39.000000</td>\n",
              "      <td>39.000000</td>\n",
              "      <td>39.000000</td>\n",
              "    </tr>\n",
              "    <tr>\n",
              "      <th>mean</th>\n",
              "      <td>20.000000</td>\n",
              "      <td>35628.205128</td>\n",
              "      <td>43410.256410</td>\n",
              "      <td>48384.615385</td>\n",
              "    </tr>\n",
              "    <tr>\n",
              "      <th>std</th>\n",
              "      <td>11.401754</td>\n",
              "      <td>3877.597514</td>\n",
              "      <td>6816.072139</td>\n",
              "      <td>5742.800457</td>\n",
              "    </tr>\n",
              "    <tr>\n",
              "      <th>min</th>\n",
              "      <td>1.000000</td>\n",
              "      <td>31000.000000</td>\n",
              "      <td>30000.000000</td>\n",
              "      <td>38000.000000</td>\n",
              "    </tr>\n",
              "    <tr>\n",
              "      <th>25%</th>\n",
              "      <td>10.500000</td>\n",
              "      <td>33000.000000</td>\n",
              "      <td>38000.000000</td>\n",
              "      <td>43000.000000</td>\n",
              "    </tr>\n",
              "    <tr>\n",
              "      <th>50%</th>\n",
              "      <td>20.000000</td>\n",
              "      <td>34000.000000</td>\n",
              "      <td>45000.000000</td>\n",
              "      <td>51000.000000</td>\n",
              "    </tr>\n",
              "    <tr>\n",
              "      <th>75%</th>\n",
              "      <td>29.500000</td>\n",
              "      <td>38000.000000</td>\n",
              "      <td>49500.000000</td>\n",
              "      <td>53000.000000</td>\n",
              "    </tr>\n",
              "    <tr>\n",
              "      <th>max</th>\n",
              "      <td>39.000000</td>\n",
              "      <td>46000.000000</td>\n",
              "      <td>53000.000000</td>\n",
              "      <td>58000.000000</td>\n",
              "    </tr>\n",
              "  </tbody>\n",
              "</table>\n",
              "</div>\n",
              "      <button class=\"colab-df-convert\" onclick=\"convertToInteractive('df-a499d60e-a6a8-4bb9-bd71-d22431548782')\"\n",
              "              title=\"Convert this dataframe to an interactive table.\"\n",
              "              style=\"display:none;\">\n",
              "        \n",
              "  <svg xmlns=\"http://www.w3.org/2000/svg\" height=\"24px\"viewBox=\"0 0 24 24\"\n",
              "       width=\"24px\">\n",
              "    <path d=\"M0 0h24v24H0V0z\" fill=\"none\"/>\n",
              "    <path d=\"M18.56 5.44l.94 2.06.94-2.06 2.06-.94-2.06-.94-.94-2.06-.94 2.06-2.06.94zm-11 1L8.5 8.5l.94-2.06 2.06-.94-2.06-.94L8.5 2.5l-.94 2.06-2.06.94zm10 10l.94 2.06.94-2.06 2.06-.94-2.06-.94-.94-2.06-.94 2.06-2.06.94z\"/><path d=\"M17.41 7.96l-1.37-1.37c-.4-.4-.92-.59-1.43-.59-.52 0-1.04.2-1.43.59L10.3 9.45l-7.72 7.72c-.78.78-.78 2.05 0 2.83L4 21.41c.39.39.9.59 1.41.59.51 0 1.02-.2 1.41-.59l7.78-7.78 2.81-2.81c.8-.78.8-2.07 0-2.86zM5.41 20L4 18.59l7.72-7.72 1.47 1.35L5.41 20z\"/>\n",
              "  </svg>\n",
              "      </button>\n",
              "      \n",
              "  <style>\n",
              "    .colab-df-container {\n",
              "      display:flex;\n",
              "      flex-wrap:wrap;\n",
              "      gap: 12px;\n",
              "    }\n",
              "\n",
              "    .colab-df-convert {\n",
              "      background-color: #E8F0FE;\n",
              "      border: none;\n",
              "      border-radius: 50%;\n",
              "      cursor: pointer;\n",
              "      display: none;\n",
              "      fill: #1967D2;\n",
              "      height: 32px;\n",
              "      padding: 0 0 0 0;\n",
              "      width: 32px;\n",
              "    }\n",
              "\n",
              "    .colab-df-convert:hover {\n",
              "      background-color: #E2EBFA;\n",
              "      box-shadow: 0px 1px 2px rgba(60, 64, 67, 0.3), 0px 1px 3px 1px rgba(60, 64, 67, 0.15);\n",
              "      fill: #174EA6;\n",
              "    }\n",
              "\n",
              "    [theme=dark] .colab-df-convert {\n",
              "      background-color: #3B4455;\n",
              "      fill: #D2E3FC;\n",
              "    }\n",
              "\n",
              "    [theme=dark] .colab-df-convert:hover {\n",
              "      background-color: #434B5C;\n",
              "      box-shadow: 0px 1px 3px 1px rgba(0, 0, 0, 0.15);\n",
              "      filter: drop-shadow(0px 1px 2px rgba(0, 0, 0, 0.3));\n",
              "      fill: #FFFFFF;\n",
              "    }\n",
              "  </style>\n",
              "\n",
              "      <script>\n",
              "        const buttonEl =\n",
              "          document.querySelector('#df-a499d60e-a6a8-4bb9-bd71-d22431548782 button.colab-df-convert');\n",
              "        buttonEl.style.display =\n",
              "          google.colab.kernel.accessAllowed ? 'block' : 'none';\n",
              "\n",
              "        async function convertToInteractive(key) {\n",
              "          const element = document.querySelector('#df-a499d60e-a6a8-4bb9-bd71-d22431548782');\n",
              "          const dataTable =\n",
              "            await google.colab.kernel.invokeFunction('convertToInteractive',\n",
              "                                                     [key], {});\n",
              "          if (!dataTable) return;\n",
              "\n",
              "          const docLinkHtml = 'Like what you see? Visit the ' +\n",
              "            '<a target=\"_blank\" href=https://colab.research.google.com/notebooks/data_table.ipynb>data table notebook</a>'\n",
              "            + ' to learn more about interactive tables.';\n",
              "          element.innerHTML = '';\n",
              "          dataTable['output_type'] = 'display_data';\n",
              "          await google.colab.output.renderOutput(dataTable, element);\n",
              "          const docLink = document.createElement('div');\n",
              "          docLink.innerHTML = docLinkHtml;\n",
              "          element.appendChild(docLink);\n",
              "        }\n",
              "      </script>\n",
              "    </div>\n",
              "  </div>\n",
              "  "
            ]
          },
          "metadata": {},
          "execution_count": 32
        }
      ]
    },
    {
      "cell_type": "code",
      "source": [
        "# Encoding\n",
        "# Fungsi encoding yang akan digunakan adalah LabelEncoder\n",
        "# Hal ini karena kita hanya mengganti nilai variabel dari nama berupa string menjadi angka. Sama halnya dengan label\n",
        "\n",
        "from sklearn.preprocessing import LabelEncoder\n",
        "\n",
        "# Inisiasi label encoder\n",
        "encode = LabelEncoder()\n",
        "\n",
        "# Terpakan label encoder\n",
        "df['kondisi'] = encode.fit_transform(df['kondisi'])\n",
        "\n",
        "df.head()"
      ],
      "metadata": {
        "colab": {
          "base_uri": "https://localhost:8080/",
          "height": 206
        },
        "id": "jvoyPtBt0KoZ",
        "outputId": "4778ee4b-f697-4054-ae57-54d1e7f86b6e"
      },
      "execution_count": 33,
      "outputs": [
        {
          "output_type": "execute_result",
          "data": {
            "text/plain": [
              "   id     pasar     tanggal  harga_terendah  harga_tertinggi  harga_jual  \\\n",
              "0   1  Sukomoro  2022-06-16           33000            34000       39000   \n",
              "1   2      Pace  2022-06-17           32000            35000       41000   \n",
              "2   3   Gondang  2022-06-18           34000            35000       42000   \n",
              "3   4  Sukomoro  2022-06-19           35000            35000       38000   \n",
              "4   5   Gondang  2022-06-20           34000            38000       45000   \n",
              "\n",
              "   kondisi  \n",
              "0        1  \n",
              "1        1  \n",
              "2        1  \n",
              "3        1  \n",
              "4        0  "
            ],
            "text/html": [
              "\n",
              "  <div id=\"df-5ecc66ab-9221-4abe-b011-22c78ae92f4f\">\n",
              "    <div class=\"colab-df-container\">\n",
              "      <div>\n",
              "<style scoped>\n",
              "    .dataframe tbody tr th:only-of-type {\n",
              "        vertical-align: middle;\n",
              "    }\n",
              "\n",
              "    .dataframe tbody tr th {\n",
              "        vertical-align: top;\n",
              "    }\n",
              "\n",
              "    .dataframe thead th {\n",
              "        text-align: right;\n",
              "    }\n",
              "</style>\n",
              "<table border=\"1\" class=\"dataframe\">\n",
              "  <thead>\n",
              "    <tr style=\"text-align: right;\">\n",
              "      <th></th>\n",
              "      <th>id</th>\n",
              "      <th>pasar</th>\n",
              "      <th>tanggal</th>\n",
              "      <th>harga_terendah</th>\n",
              "      <th>harga_tertinggi</th>\n",
              "      <th>harga_jual</th>\n",
              "      <th>kondisi</th>\n",
              "    </tr>\n",
              "  </thead>\n",
              "  <tbody>\n",
              "    <tr>\n",
              "      <th>0</th>\n",
              "      <td>1</td>\n",
              "      <td>Sukomoro</td>\n",
              "      <td>2022-06-16</td>\n",
              "      <td>33000</td>\n",
              "      <td>34000</td>\n",
              "      <td>39000</td>\n",
              "      <td>1</td>\n",
              "    </tr>\n",
              "    <tr>\n",
              "      <th>1</th>\n",
              "      <td>2</td>\n",
              "      <td>Pace</td>\n",
              "      <td>2022-06-17</td>\n",
              "      <td>32000</td>\n",
              "      <td>35000</td>\n",
              "      <td>41000</td>\n",
              "      <td>1</td>\n",
              "    </tr>\n",
              "    <tr>\n",
              "      <th>2</th>\n",
              "      <td>3</td>\n",
              "      <td>Gondang</td>\n",
              "      <td>2022-06-18</td>\n",
              "      <td>34000</td>\n",
              "      <td>35000</td>\n",
              "      <td>42000</td>\n",
              "      <td>1</td>\n",
              "    </tr>\n",
              "    <tr>\n",
              "      <th>3</th>\n",
              "      <td>4</td>\n",
              "      <td>Sukomoro</td>\n",
              "      <td>2022-06-19</td>\n",
              "      <td>35000</td>\n",
              "      <td>35000</td>\n",
              "      <td>38000</td>\n",
              "      <td>1</td>\n",
              "    </tr>\n",
              "    <tr>\n",
              "      <th>4</th>\n",
              "      <td>5</td>\n",
              "      <td>Gondang</td>\n",
              "      <td>2022-06-20</td>\n",
              "      <td>34000</td>\n",
              "      <td>38000</td>\n",
              "      <td>45000</td>\n",
              "      <td>0</td>\n",
              "    </tr>\n",
              "  </tbody>\n",
              "</table>\n",
              "</div>\n",
              "      <button class=\"colab-df-convert\" onclick=\"convertToInteractive('df-5ecc66ab-9221-4abe-b011-22c78ae92f4f')\"\n",
              "              title=\"Convert this dataframe to an interactive table.\"\n",
              "              style=\"display:none;\">\n",
              "        \n",
              "  <svg xmlns=\"http://www.w3.org/2000/svg\" height=\"24px\"viewBox=\"0 0 24 24\"\n",
              "       width=\"24px\">\n",
              "    <path d=\"M0 0h24v24H0V0z\" fill=\"none\"/>\n",
              "    <path d=\"M18.56 5.44l.94 2.06.94-2.06 2.06-.94-2.06-.94-.94-2.06-.94 2.06-2.06.94zm-11 1L8.5 8.5l.94-2.06 2.06-.94-2.06-.94L8.5 2.5l-.94 2.06-2.06.94zm10 10l.94 2.06.94-2.06 2.06-.94-2.06-.94-.94-2.06-.94 2.06-2.06.94z\"/><path d=\"M17.41 7.96l-1.37-1.37c-.4-.4-.92-.59-1.43-.59-.52 0-1.04.2-1.43.59L10.3 9.45l-7.72 7.72c-.78.78-.78 2.05 0 2.83L4 21.41c.39.39.9.59 1.41.59.51 0 1.02-.2 1.41-.59l7.78-7.78 2.81-2.81c.8-.78.8-2.07 0-2.86zM5.41 20L4 18.59l7.72-7.72 1.47 1.35L5.41 20z\"/>\n",
              "  </svg>\n",
              "      </button>\n",
              "      \n",
              "  <style>\n",
              "    .colab-df-container {\n",
              "      display:flex;\n",
              "      flex-wrap:wrap;\n",
              "      gap: 12px;\n",
              "    }\n",
              "\n",
              "    .colab-df-convert {\n",
              "      background-color: #E8F0FE;\n",
              "      border: none;\n",
              "      border-radius: 50%;\n",
              "      cursor: pointer;\n",
              "      display: none;\n",
              "      fill: #1967D2;\n",
              "      height: 32px;\n",
              "      padding: 0 0 0 0;\n",
              "      width: 32px;\n",
              "    }\n",
              "\n",
              "    .colab-df-convert:hover {\n",
              "      background-color: #E2EBFA;\n",
              "      box-shadow: 0px 1px 2px rgba(60, 64, 67, 0.3), 0px 1px 3px 1px rgba(60, 64, 67, 0.15);\n",
              "      fill: #174EA6;\n",
              "    }\n",
              "\n",
              "    [theme=dark] .colab-df-convert {\n",
              "      background-color: #3B4455;\n",
              "      fill: #D2E3FC;\n",
              "    }\n",
              "\n",
              "    [theme=dark] .colab-df-convert:hover {\n",
              "      background-color: #434B5C;\n",
              "      box-shadow: 0px 1px 3px 1px rgba(0, 0, 0, 0.15);\n",
              "      filter: drop-shadow(0px 1px 2px rgba(0, 0, 0, 0.3));\n",
              "      fill: #FFFFFF;\n",
              "    }\n",
              "  </style>\n",
              "\n",
              "      <script>\n",
              "        const buttonEl =\n",
              "          document.querySelector('#df-5ecc66ab-9221-4abe-b011-22c78ae92f4f button.colab-df-convert');\n",
              "        buttonEl.style.display =\n",
              "          google.colab.kernel.accessAllowed ? 'block' : 'none';\n",
              "\n",
              "        async function convertToInteractive(key) {\n",
              "          const element = document.querySelector('#df-5ecc66ab-9221-4abe-b011-22c78ae92f4f');\n",
              "          const dataTable =\n",
              "            await google.colab.kernel.invokeFunction('convertToInteractive',\n",
              "                                                     [key], {});\n",
              "          if (!dataTable) return;\n",
              "\n",
              "          const docLinkHtml = 'Like what you see? Visit the ' +\n",
              "            '<a target=\"_blank\" href=https://colab.research.google.com/notebooks/data_table.ipynb>data table notebook</a>'\n",
              "            + ' to learn more about interactive tables.';\n",
              "          element.innerHTML = '';\n",
              "          dataTable['output_type'] = 'display_data';\n",
              "          await google.colab.output.renderOutput(dataTable, element);\n",
              "          const docLink = document.createElement('div');\n",
              "          docLink.innerHTML = docLinkHtml;\n",
              "          element.appendChild(docLink);\n",
              "        }\n",
              "      </script>\n",
              "    </div>\n",
              "  </div>\n",
              "  "
            ]
          },
          "metadata": {},
          "execution_count": 33
        }
      ]
    },
    {
      "cell_type": "code",
      "source": [
        "# Cek kolom null\n",
        "data.isnull().sum()"
      ],
      "metadata": {
        "colab": {
          "base_uri": "https://localhost:8080/"
        },
        "id": "IAFpu_7I09wC",
        "outputId": "7b65c238-8e1a-4da0-f4f4-d64710f87562"
      },
      "execution_count": 34,
      "outputs": [
        {
          "output_type": "execute_result",
          "data": {
            "text/plain": [
              "id                 0\n",
              "pasar              0\n",
              "tanggal            0\n",
              "harga_terendah     0\n",
              "harga_tertinggi    0\n",
              "harga_jual         0\n",
              "kondisi            0\n",
              "dtype: int64"
            ]
          },
          "metadata": {},
          "execution_count": 34
        }
      ]
    },
    {
      "cell_type": "markdown",
      "source": [
        "### Seleksi Fitur"
      ],
      "metadata": {
        "id": "uIjMyZZz1HMq"
      }
    },
    {
      "cell_type": "code",
      "source": [
        "# Seleksi fitur\n",
        "X = df.iloc[:,3:5]\n",
        "y = df.iloc[:, 6]\n",
        "\n",
        "# Cek jumlah fitur dan instance\n",
        "print(X.shape)\n",
        "\n",
        "# Cek label\n",
        "print(X)\n",
        "print(y)"
      ],
      "metadata": {
        "colab": {
          "base_uri": "https://localhost:8080/"
        },
        "id": "0fXFRwwO1LNI",
        "outputId": "a98a3241-56dd-4104-c801-cbffc3db398e"
      },
      "execution_count": 35,
      "outputs": [
        {
          "output_type": "stream",
          "name": "stdout",
          "text": [
            "(39, 2)\n",
            "    harga_terendah  harga_tertinggi\n",
            "0            33000            34000\n",
            "1            32000            35000\n",
            "2            34000            35000\n",
            "3            35000            35000\n",
            "4            34000            38000\n",
            "5            34000            40000\n",
            "6            34000            34000\n",
            "7            35000            34000\n",
            "8            35000            39000\n",
            "9            35000            38000\n",
            "10           37000            38000\n",
            "11           37000            38000\n",
            "12           38500            38000\n",
            "13           39000            30000\n",
            "14           40000            39000\n",
            "15           40000            39000\n",
            "16           40000            39000\n",
            "17           43000            39000\n",
            "18           46000            41000\n",
            "19           45000            53000\n",
            "20           42000            53000\n",
            "21           38000            53000\n",
            "22           36000            49000\n",
            "23           33000            50000\n",
            "24           33000            50000\n",
            "25           32000            49000\n",
            "26           31000            50000\n",
            "27           33000            49000\n",
            "28           32500            47000\n",
            "29           32000            45000\n",
            "30           38000            53000\n",
            "31           36000            49000\n",
            "32           33000            50000\n",
            "33           33000            50000\n",
            "34           32000            49000\n",
            "35           31000            50000\n",
            "36           33000            49000\n",
            "37           32500            47000\n",
            "38           32000            45000\n",
            "0     1\n",
            "1     1\n",
            "2     1\n",
            "3     1\n",
            "4     0\n",
            "5     1\n",
            "6     1\n",
            "7     1\n",
            "8     0\n",
            "9     1\n",
            "10    1\n",
            "11    1\n",
            "12    0\n",
            "13    1\n",
            "14    1\n",
            "15    1\n",
            "16    1\n",
            "17    1\n",
            "18    0\n",
            "19    0\n",
            "20    0\n",
            "21    0\n",
            "22    0\n",
            "23    0\n",
            "24    0\n",
            "25    0\n",
            "26    0\n",
            "27    0\n",
            "28    0\n",
            "29    0\n",
            "30    0\n",
            "31    0\n",
            "32    0\n",
            "33    0\n",
            "34    0\n",
            "35    0\n",
            "36    0\n",
            "37    0\n",
            "38    0\n",
            "Name: kondisi, dtype: int64\n"
          ]
        }
      ]
    },
    {
      "cell_type": "markdown",
      "source": [
        "### Split data training dan testing"
      ],
      "metadata": {
        "id": "HlWnb88j1okl"
      }
    },
    {
      "cell_type": "code",
      "source": [
        "from sklearn.model_selection import train_test_split\n",
        "\n",
        "X_train, X_test, y_train, y_test = train_test_split(X, y, test_size=0.2, random_state=1)"
      ],
      "metadata": {
        "id": "dINO13Y51w1w"
      },
      "execution_count": 36,
      "outputs": []
    },
    {
      "cell_type": "markdown",
      "source": [
        "### Traning Decision Tree"
      ],
      "metadata": {
        "id": "mAkW4XqU1wJQ"
      }
    },
    {
      "cell_type": "code",
      "source": [
        "# Secara default, DecisionTreeClassifier dari scikit-learn akan menggunakan nilai \"Gini\" untuk kriteria\n",
        "# Terdapat beberapa \"hyperparamater\" yang dapat digunakan. Silahka baca dokumentasi\n",
        "# Pada kasus ini kita akan menggunakan parameter default\n",
        "dt = DecisionTreeClassifier()\n",
        "\n",
        "# Sesuaikan dt ke set training\n",
        "dt.fit(X_train, y_train)\n",
        "\n",
        "# Memprediksi label set test\n",
        "y_pred_dt = dt.predict(X_test)\n",
        "\n",
        "#  menghitung set accuracy\n",
        "acc_dt = accuracy_score(y_test, y_pred_dt)\n",
        "print(\"Test set accuracy: {:.2f}\".format(acc_dt))\n",
        "print(f\"Test set accuracy: {acc_dt}\")"
      ],
      "metadata": {
        "colab": {
          "base_uri": "https://localhost:8080/"
        },
        "id": "Wti8ohra1_lg",
        "outputId": "66850052-b8b8-44d1-f69c-8f63ecf7b112"
      },
      "execution_count": 37,
      "outputs": [
        {
          "output_type": "stream",
          "name": "stdout",
          "text": [
            "Test set accuracy: 1.00\n",
            "Test set accuracy: 1.0\n"
          ]
        }
      ]
    },
    {
      "cell_type": "markdown",
      "source": [
        "### Traning SVM"
      ],
      "metadata": {
        "id": "9Pj1HjQd18nX"
      }
    },
    {
      "cell_type": "code",
      "source": [
        "from sklearn import svm\n",
        "\n",
        "# menggunakan SVM library untuk membuat SVM classifier\n",
        "# probability di set true agar bisa menghitung ROC\n",
        "svm_model = svm.SVC(kernel = 'linear', C=100, probability=True)\n",
        " \n",
        "# memasukkan training data kedalam svm\n",
        "svm_model.fit(X_train, y_train)\n",
        "\n",
        "# Memprediksi label set test\n",
        "y_pred_svm = svm_model.predict(X_test)\n",
        "\n",
        "#  menghitung set accuracy\n",
        "acc_svm = accuracy_score(y_test, y_pred_svm)\n",
        "print(\"Test set accuracy: {:.2f}\".format(acc_svm))\n",
        "print(f\"Test set accuracy: {acc_svm}\")"
      ],
      "metadata": {
        "colab": {
          "base_uri": "https://localhost:8080/"
        },
        "id": "-36ydv012kDA",
        "outputId": "2c788af7-f85a-49e9-baec-c05203bdda15"
      },
      "execution_count": 41,
      "outputs": [
        {
          "output_type": "stream",
          "name": "stdout",
          "text": [
            "Test set accuracy: 1.00\n",
            "Test set accuracy: 1.0\n"
          ]
        }
      ]
    },
    {
      "cell_type": "markdown",
      "source": [
        "## KESIMPULAN"
      ],
      "metadata": {
        "id": "uPsvL_pk3Qg4"
      }
    },
    {
      "cell_type": "markdown",
      "source": [
        "### KESIMPULAN PREDIKSI ( REGRESI )"
      ],
      "metadata": {
        "id": "V_xymXpD3Ti4"
      }
    },
    {
      "cell_type": "markdown",
      "source": [
        "Dari penelitian yang telah dilakukan pada dataset *`prediksi-harga-bawang.csv`* untuk memprediksi **harga jual** bawang merah di pasar daerah ***Nganjuk*** telah ditemukan beberapa kesimpulan yang bisa diambil. Diantara lain : <br><br>\n",
        "\n",
        "\n",
        "\n",
        "1.   Variabel yang **berkorelasi paling kuat** dengan ***harga jual*** adalah variabel ***harga tertinggi***  dengan tingkat korelasi sebesar `0.94`.\n",
        "2.   Dari parameter yang dihasilkan pada `regresi linear`, ketika divisualisasikan dengan **scatter plot**. `Parameter tersebut dapat memotong lurus miring ke kanan` yang menandakan **`regresi bernilai positif`** dan layak digunakan pada dataset.\n",
        "3. Pada residual analysis didapatkan `hasil r^2` dari ***data training*** adalah `0.846` sedangkan dari ***data testing*** adalah `0,930`. Hal ini berarti model yang dibentuk cukup stabil (tidak berselisih jauh antara training dengan testing)\n",
        "\n"
      ],
      "metadata": {
        "id": "R7y-LrsE3d2A"
      }
    },
    {
      "cell_type": "markdown",
      "source": [
        "### KESIMPULAN KLASIFIKASI ( DT DAN SVM )\n"
      ],
      "metadata": {
        "id": "YFcAbkoi3XTZ"
      }
    },
    {
      "cell_type": "markdown",
      "source": [
        "Dari penelitian yang telah dilakukan pada dataset *`prediksi-harga-bawang.csv`* untuk mengklasifikasi `harga` berdasarkan `kondisi harga` yang ada menggunakan `klasifikasi Decision Tree dan SVM` telah ditemukan beberapa kesimpulan yang bisa diambil. Diantara lain : <br><br>\n",
        "\n",
        "1.   Nilai X diambil dari data **harga terendah, harga tertinggi dan harga jual** pada langkah `seleksi fitur`\n",
        "2.   Nilai Y diambil dari ***kondisi harga*** yang ada pada langkah `seleksi fitur`\n",
        "3. Ketika menggunakan klasifikasi ***Decision Tree*** `nilai akurasi` yang didapat adalah `1.0` yang mana bernilai `sempurna`\n",
        "4. Ketika menggunakan klasifikasi ***SVM*** `nilai akurasi` yang didapat adalah `1.0` yang mana bernilai `sempurna`\n",
        "5. ***Kedua metode klasifikasi*** di atas ***sangat cocok*** dengan dataset yang kami gunakan, dimana keduanya menghasilkan output `nilai akurasi skor yang sama yakni 1.0`\n",
        "\n"
      ],
      "metadata": {
        "id": "Ve4BDQgr59zN"
      }
    }
  ]
}